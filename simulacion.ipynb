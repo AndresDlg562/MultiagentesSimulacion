{
 "cells": [
  {
   "cell_type": "markdown",
   "metadata": {},
   "source": [
    "# Sembradora 3000"
   ]
  },
  {
   "cell_type": "markdown",
   "metadata": {},
   "source": [
    "This notebook presents an agent-based model that simulates the propagation of a disease through a network.\n",
    "It demonstrates how to use the [agentpy](https://agentpy.readthedocs.io) package to create and visualize networks, use the interactive module, and perform different types of sensitivity analysis. "
   ]
  },
  {
   "cell_type": "code",
   "execution_count": 55,
   "metadata": {},
   "outputs": [],
   "source": [
    "# Model design\n",
    "import agentpy as ap\n",
    "import networkx as nx \n",
    "import random\n",
    "import numpy as np\n",
    "from collections import deque\n",
    "from queue import PriorityQueue\n",
    "\n",
    "# Visualization\n",
    "import matplotlib.pyplot as plt \n",
    "import matplotlib.colors as mcolors\n",
    "import seaborn as sns\n",
    "import IPython\n",
    "from IPython.display import HTML"
   ]
  },
  {
   "cell_type": "markdown",
   "metadata": {},
   "source": [
    "## About the model\n",
    "\n",
    "The agents of this model are people, which can be in one of the following three conditions: susceptible to the disease (S), infected (I), or recovered (R). The agents are connected to each other through a small-world network of peers. At every time-step, infected agents can infect their peers or recover from the disease based on random chance."
   ]
  },
  {
   "cell_type": "markdown",
   "metadata": {},
   "source": [
    "## Defining the model"
   ]
  },
  {
   "cell_type": "code",
   "execution_count": 68,
   "metadata": {},
   "outputs": [],
   "source": [
    "\"\"\"\n",
    "1 is tractor\n",
    "2 is obstacle\n",
    "3 is target\n",
    "4 is seeds\n",
    "\"\"\"\n",
    "\n",
    "\n",
    "def is_connected(grid, free_positions):\n",
    "    \"\"\" Check if all free cells are connected using BFS \"\"\"\n",
    "    n = grid.shape[0]\n",
    "    visited = set()\n",
    "    queue = deque([free_positions.pop()])\n",
    "    visited.add(queue[0])\n",
    "\n",
    "    directions = [(-1, 0), (1, 0), (0, -1), (0, 1)]\n",
    "    \n",
    "    connected_count = 1\n",
    "    free_count = len(free_positions)\n",
    "\n",
    "    while queue:\n",
    "        x, y = queue.popleft()\n",
    "        for dx, dy in directions:\n",
    "            new_x, new_y = x + dx, y + dy\n",
    "            if 0 <= new_x < n and 0 <= new_y < n and (new_x, new_y) in free_positions and (new_x, new_y) not in visited:\n",
    "                queue.append((new_x, new_y))\n",
    "                visited.add((new_x, new_y))\n",
    "                connected_count += 1\n",
    "        \n",
    "                \n",
    "    return connected_count > free_count\n",
    "\n",
    "def generate_grid(model, n, obstacles_count):\n",
    "    grid = ap.Grid(model, (n, n), track_empty=True)  # Create an agentpy Grid object\n",
    "    grid.add_field(\"occupied\", 0)  # Add a field to store obstacle information\n",
    "\n",
    "    # Generate obstacle positions\n",
    "    obstacle_positions = set()\n",
    "    while len(obstacle_positions) < obstacles_count:\n",
    "        x, y = random.randint(0, n-1), random.randint(0, n-1)\n",
    "        if (x, y) not in obstacle_positions and (x,y) not in model.p.seedsPositions:\n",
    "            obstacle_positions.add((x, y))\n",
    "\n",
    "    # Mark grid cells as obstacles\n",
    "    for pos in obstacle_positions:\n",
    "        grid[\"occupied\"][pos] = 1\n",
    "\n",
    "    # Identify free positions\n",
    "    free_positions = set()\n",
    "    for pos in grid.all:\n",
    "        if grid[\"occupied\"][pos] != 1:\n",
    "            free_positions.add(pos)\n",
    "\n",
    "    # Check if the free cells are connected\n",
    "    final_obstacles = set()\n",
    "    while not is_connected(grid, free_positions):\n",
    "        final_obstacles.clear()\n",
    "        grid = ap.Grid(model, (n, n), track_empty=True)\n",
    "        grid.add_field(\"occupied\", 0)\n",
    "        obstacle_positions = set()\n",
    "        while len(obstacle_positions) < obstacles_count:\n",
    "            x, y = random.randint(0, n-1), random.randint(0, n-1)\n",
    "            if (x, y) not in obstacle_positions and (x,y) not in model.p.seedsPositions:\n",
    "                obstacle_positions.add((x, y))\n",
    "        \n",
    "        free_positions = set()\n",
    "        for pos in grid.all:\n",
    "            if grid[\"occupied\"][pos] == 0:\n",
    "                free_positions.add(pos)\n",
    "        final_obstacles = obstacle_positions\n",
    "\n",
    "    for pos in obstacle_positions:\n",
    "        grid[\"occupied\"][pos] = 1\n",
    "        model.np_grid[pos] = 3\n",
    "    #add an agent to each obstacle position with type 2\n",
    "    #Make an agentlist ap.agentlist\n",
    "    #Add the agent to the grid\n",
    "    #Add the agent to the agentlist\n",
    "    agentlist = ap.AgentList(model, len(obstacle_positions))\n",
    "    agentlist.type = 2\n",
    "        \n",
    "    grid.add_agents(agentlist, obstacle_positions)\n",
    "    \n",
    "\n",
    "\n",
    "    model.grid = grid\n",
    "\n",
    "class CollectingTractor(ap.Agent):\n",
    "    def setup(self, type = 1, pos = (0,0)):\n",
    "        self.collected = 0\n",
    "        self.targetIndex = 1\n",
    "        self.path = []\n",
    "        self.destroyed = False\n",
    "        self.condition = True\n",
    "        self.seeds = 0\n",
    "        self.type = type\n",
    "        self.pos = pos\n",
    "        self.start = pos\n",
    "\n",
    "\n",
    "    def heuristic(x1, y1, x2, y2):\n",
    "        return abs(x1 - x2) + abs(y1 - y2)\n",
    "    \n",
    "    def a_star_search(self, start, end):\n",
    "        #initialize the frontier using the initial state of the problem\n",
    "        frontier = PriorityQueue()\n",
    "        frontier.put(start, 0)\n",
    "        came_from = {}\n",
    "        cost_so_far = {}\n",
    "        came_from[start] = None\n",
    "        cost_so_far[start] = 0\n",
    "\n",
    "        #run the search\n",
    "        while not frontier.empty():\n",
    "            current = frontier.get()\n",
    "\n",
    "            if current == end:\n",
    "                break\n",
    "\n",
    "            #add to negihbors all the neighbors of the current cell\n",
    "            neighbors = [(0, 1), (0, -1), (1, 0), (-1, 0)]\n",
    "            size = self.model.grid.shape[0]\n",
    "\n",
    "            for nextTemp in neighbors:\n",
    "                #check if the next cell is within the grid\n",
    "                next = (current[0]+ nextTemp[0], current[1] + nextTemp[1])\n",
    "                if next[0] < 0 or next[0] >= size or next[1] < 0 or next[1] >= size:\n",
    "                    continue\n",
    "                #check if the next cell is an obstacle\n",
    "                if self.model.grid[\"occupied\"][next] == 1:\n",
    "                    continue\n",
    "\n",
    "                new_cost = cost_so_far[current] + 1\n",
    "                if next not in cost_so_far or new_cost < cost_so_far[next]:\n",
    "                    cost_so_far[next] = new_cost\n",
    "                    priority = new_cost + abs(end[0] - next[0]) + abs(end[1] - next[1])\n",
    "                    frontier.put(next, priority)\n",
    "                    came_from[next] = current\n",
    "\n",
    "        #reconstruct the path\n",
    "        path = []\n",
    "        current = end\n",
    "        while current != start:\n",
    "            path.append(current)\n",
    "            current = came_from[current]\n",
    "        path.reverse()\n",
    "        return path\n",
    "        \n",
    "    def collect(self):\n",
    "        #run an A* search to find the shortest path to the target\n",
    "        if (self.type == 2):\n",
    "            return\n",
    "\n",
    "        if (self.destroyed):\n",
    "            return\n",
    "\n",
    "\n",
    "        start = (self.pos[0], self.pos[1])\n",
    "        if (self.seeds > 0):\n",
    "            end = self.targets[self.targetIndex]\n",
    "        else:\n",
    "            #iterate through the seeds and find the closest one using A*\n",
    "            minDist = 100000\n",
    "            for seed in self.model.p.seedsPositions:\n",
    "                dist = len(self.a_star_search(start, seed))\n",
    "                if (dist < minDist):\n",
    "                    minDist = dist\n",
    "                    end = seed\n",
    "\n",
    "        self.model.np_grid[end] = 2\n",
    "        if (len(self.path) == 0):\n",
    "            self.path = self.a_star_search(start, end)\n",
    "\n",
    "        \n",
    "        if (len(self.path) == 0):\n",
    "            next_pos = self.pos\n",
    "        else:\n",
    "            next_pos = self.path.pop(0)\n",
    "            if not (next_pos in self.model.grid.empty.items):\n",
    "                return        \n",
    "        \n",
    "        self.model.grid.move_to(self, next_pos)\n",
    "        self.model.np_grid[self.pos] = 0\n",
    "        self.model.np_grid[next_pos] = 1\n",
    "        self.pos = next_pos\n",
    "\n",
    "        if (self.pos in self.model.p.seedsPositions):\n",
    "            self.seeds = self.capacity\n",
    "            return\n",
    "        #check if the target has been reached\n",
    "\n",
    "        if self.pos == end:\n",
    "            self.seeds -= 1\n",
    "            self.model.Collected += 1\n",
    "            self.targetIndex += 1\n",
    "            if self.targetIndex == len(self.targets):\n",
    "                self.model.np_grid[self.pos] = 0\n",
    "                self.model.grid.remove_agents(self)\n",
    "                self.destroyed = True\n",
    "                self.condition = False\n",
    "                self.type = 0\n",
    "    \n"
   ]
  },
  {
   "cell_type": "code",
   "execution_count": 69,
   "metadata": {},
   "outputs": [],
   "source": [
    "\n",
    "\n",
    "class TractorModel(ap.Model):\n",
    "    def setup(self):\n",
    "        self.Collected = 0\n",
    "        #numpy array of size grid_size x grid_size\n",
    "        self.np_grid = np.zeros((self.p.grid_size, self.p.grid_size))\n",
    "        generate_grid(self, self.p.grid_size, self.p.obstacles_count)\n",
    "        #Create p.number_of_tractors tractors\n",
    "        self.agents = ap.AgentList(self, self.p.number_of_tractors, CollectingTractor)\n",
    "        self.agents.capacity = self.p.capacity\n",
    "        self.agents.seeds = self.p.starting_seeds\n",
    "        #Set the targets for each tractor, checking that they are not obstacles\n",
    "        for tractor in self.agents:\n",
    "            targets = []\n",
    "            for i in range(self.p.number_of_targets):\n",
    "                x, y = random.randint(0, self.p.grid_size-1), random.randint(0, self.p.grid_size-1)\n",
    "                while self.grid[\"occupied\"][(x, y)] == 1:\n",
    "                    x, y = random.randint(0, self.p.grid_size-1), random.randint(0, self.p.grid_size-1)\n",
    "                targets.append((x, y))\n",
    "            tractor.targets = targets\n",
    "            tractor.pos = targets[0]\n",
    "            self.np_grid[tractor.pos] = 1\n",
    "        \n",
    "        self.grid.add_agents(self.agents, [tractor.pos for tractor in self.agents])\n",
    "            \n",
    "        \n",
    "    def update(self):\n",
    "        self.record('Collected', sum([tractor.collected for tractor in self.agents]))\n",
    "\n",
    "        \n",
    "    def step(self):\n",
    "        self.agents.collect()\n",
    "        #Assign 4 to the seed positions\n",
    "        for seed in self.p.seedsPositions:\n",
    "            self.np_grid[seed] = 4\n",
    "        \n",
    "    def end(self):\n",
    "        self.report('Total targets', self.p.number_of_targets * self.p.number_of_tractors)\n",
    "        \n",
    "        #time to collect all targets\n"
   ]
  },
  {
   "cell_type": "markdown",
   "metadata": {},
   "source": [
    "## Running a simulation"
   ]
  },
  {
   "cell_type": "raw",
   "metadata": {
    "raw_mimetype": "text/restructuredtext"
   },
   "source": [
    "To run our model, we define a dictionary with our parameters. \n",
    "We then create a new instance of our model, passing the parameters as an argument, \n",
    "and use the method :func:`Model.run` to perform the simulation and return it's output. "
   ]
  },
  {
   "cell_type": "code",
   "execution_count": 74,
   "metadata": {},
   "outputs": [
    {
     "name": "stderr",
     "output_type": "stream",
     "text": [
      "C:\\Users\\andy5\\AppData\\Local\\Temp\\ipykernel_25164\\925827101.py:35: DeprecationWarning: `product` is deprecated as of NumPy 1.25.0, and will be removed in NumPy 2.0. Please use `prod` instead.\n",
      "  grid.add_field(\"occupied\", 0)  # Add a field to store obstacle information\n"
     ]
    },
    {
     "name": "stdout",
     "output_type": "stream",
     "text": [
      "Completed: 50 steps\n",
      "Run time: 0:00:00.777256\n",
      "Simulation finished\n"
     ]
    },
    {
     "data": {
      "text/plain": [
       "'model = VirusModel(parameters)\\nresults = model.run() '"
      ]
     },
     "execution_count": 74,
     "metadata": {},
     "output_type": "execute_result"
    }
   ],
   "source": [
    "\n",
    "\n",
    "tractorParameters = {\n",
    "    'grid_size': 100,\n",
    "    'obstacles_count': 10,\n",
    "    'number_of_tractors': 4,\n",
    "    'number_of_targets': 10,\n",
    "    'steps': 500,\n",
    "    'seedsPositions': [(0, 0)],\n",
    "    'capacity': 2,\n",
    "    'starting_seeds': 2\n",
    "}\n",
    "\n",
    "model = TractorModel(tractorParameters)\n",
    "results = model.run(steps=50)\n",
    "'''model = VirusModel(parameters)\n",
    "results = model.run() '''"
   ]
  },
  {
   "cell_type": "markdown",
   "metadata": {},
   "source": [
    "## Analyzing results"
   ]
  },
  {
   "cell_type": "code",
   "execution_count": 75,
   "metadata": {},
   "outputs": [
    {
     "data": {
      "image/png": "[encoded data removed]",
      "text/plain": [
       "<Figure size 640x480 with 1 Axes>"
      ]
     },
     "metadata": {},
     "output_type": "display_data"
    }
   ],
   "source": [
    "def tractor_plot(data, ax):\n",
    "    x = data.index.get_level_values('t')\n",
    "    y = data['Collected']\n",
    "    ax.plot(x, y, label='Collected targets')\n",
    "    ax.legend()\n",
    "    ax.set_xlim(0, max(1, len(x)-1))\n",
    "    ax.set_ylim(0, 25)\n",
    "    ax.set_xlabel(\"Time steps\")\n",
    "    ax.set_ylabel(\"Number of collected targets\")\n",
    "\n",
    "fig, ax = plt.subplots()\n",
    "tractor_plot(results.variables.TractorModel, ax)"
   ]
  },
  {
   "cell_type": "markdown",
   "metadata": {},
   "source": [
    "## Creating an animation"
   ]
  },
  {
   "cell_type": "code",
   "execution_count": 76,
   "metadata": {},
   "outputs": [
    {
     "name": "stderr",
     "output_type": "stream",
     "text": [
      "C:\\Users\\andy5\\AppData\\Local\\Temp\\ipykernel_25164\\925827101.py:35: DeprecationWarning: `product` is deprecated as of NumPy 1.25.0, and will be removed in NumPy 2.0. Please use `prod` instead.\n",
      "  grid.add_field(\"occupied\", 0)  # Add a field to store obstacle information\n",
      "MovieWriter ffmpeg unavailable; using Pillow instead.\n"
     ]
    }
   ],
   "source": [
    "\"\"\"\n",
    "0 is empty\n",
    "1 is tractor\n",
    "2 is obstacle\n",
    "3 is target\n",
    "4 is seeds\n",
    "\"\"\"\n",
    "def animation_plot(model, ax):\n",
    "    # Define a custom colormap using the specified colors\n",
    "    cmap = mcolors.ListedColormap(['white', 'blue', 'yellow', 'red', 'green'])\n",
    "\n",
    "    # Define the bounds and create a norm\n",
    "    bounds = [0, 1, 2, 3, 4, 5]\n",
    "    norm = mcolors.BoundaryNorm(bounds, cmap.N)\n",
    "\n",
    "    # Clear the axis to avoid over-plotting\n",
    "    ax.clear()\n",
    "\n",
    "    # Plot the grid using the custom colormap\n",
    "    ap.gridplot(model.np_grid, cmap=cmap, norm=norm, ax=ax)\n",
    "\n",
    "    # Add text for each tractor displaying the number of seeds it has\n",
    "    \n",
    "\n",
    "    # Set the title for the plot\n",
    "    ax.set_title(f\"Tractor model \\n Time-step: {model.t}, \"\n",
    "                 f\"Collected: {model.Collected}\")\n",
    "    \n",
    "    for agent in model.agents:\n",
    "        if (agent.destroyed):\n",
    "            continue\n",
    "        ax.text(agent.pos[1], agent.pos[0], str(agent.seeds),\n",
    "                color='black', fontsize=12, ha='center', va='center', weight='bold')\n",
    "\n",
    "# Example usage\n",
    "fig, ax = plt.subplots()\n",
    "model = TractorModel(tractorParameters)\n",
    "animation = ap.animate(model, fig, ax, animation_plot)\n",
    "animation.save('simulacionTractores.gif')\n",
    "\n",
    "\n"
   ]
  },
  {
   "cell_type": "code",
   "execution_count": 77,
   "metadata": {},
   "outputs": [
    {
     "ename": "RuntimeError",
     "evalue": "Requested MovieWriter (ffmpeg) not available",
     "output_type": "error",
     "traceback": [
      "\u001b[1;31m---------------------------------------------------------------------------\u001b[0m",
      "\u001b[1;31mRuntimeError\u001b[0m                              Traceback (most recent call last)",
      "Cell \u001b[1;32mIn[77], line 2\u001b[0m\n\u001b[0;32m      1\u001b[0m \u001b[38;5;66;03m#Display the animation\u001b[39;00m\n\u001b[1;32m----> 2\u001b[0m HTML(\u001b[43manimation\u001b[49m\u001b[38;5;241;43m.\u001b[39;49m\u001b[43mto_html5_video\u001b[49m\u001b[43m(\u001b[49m\u001b[43m)\u001b[49m)\n",
      "File \u001b[1;32mc:\\Python312\\Lib\\site-packages\\matplotlib\\animation.py:1285\u001b[0m, in \u001b[0;36mAnimation.to_html5_video\u001b[1;34m(self, embed_limit)\u001b[0m\n\u001b[0;32m   1282\u001b[0m path \u001b[38;5;241m=\u001b[39m Path(tmpdir, \u001b[38;5;124m\"\u001b[39m\u001b[38;5;124mtemp.m4v\u001b[39m\u001b[38;5;124m\"\u001b[39m)\n\u001b[0;32m   1283\u001b[0m \u001b[38;5;66;03m# We create a writer manually so that we can get the\u001b[39;00m\n\u001b[0;32m   1284\u001b[0m \u001b[38;5;66;03m# appropriate size for the tag\u001b[39;00m\n\u001b[1;32m-> 1285\u001b[0m Writer \u001b[38;5;241m=\u001b[39m \u001b[43mwriters\u001b[49m\u001b[43m[\u001b[49m\u001b[43mmpl\u001b[49m\u001b[38;5;241;43m.\u001b[39;49m\u001b[43mrcParams\u001b[49m\u001b[43m[\u001b[49m\u001b[38;5;124;43m'\u001b[39;49m\u001b[38;5;124;43manimation.writer\u001b[39;49m\u001b[38;5;124;43m'\u001b[39;49m\u001b[43m]\u001b[49m\u001b[43m]\u001b[49m\n\u001b[0;32m   1286\u001b[0m writer \u001b[38;5;241m=\u001b[39m Writer(codec\u001b[38;5;241m=\u001b[39m\u001b[38;5;124m'\u001b[39m\u001b[38;5;124mh264\u001b[39m\u001b[38;5;124m'\u001b[39m,\n\u001b[0;32m   1287\u001b[0m                 bitrate\u001b[38;5;241m=\u001b[39mmpl\u001b[38;5;241m.\u001b[39mrcParams[\u001b[38;5;124m'\u001b[39m\u001b[38;5;124manimation.bitrate\u001b[39m\u001b[38;5;124m'\u001b[39m],\n\u001b[0;32m   1288\u001b[0m                 fps\u001b[38;5;241m=\u001b[39m\u001b[38;5;241m1000.\u001b[39m \u001b[38;5;241m/\u001b[39m \u001b[38;5;28mself\u001b[39m\u001b[38;5;241m.\u001b[39m_interval)\n\u001b[0;32m   1289\u001b[0m \u001b[38;5;28mself\u001b[39m\u001b[38;5;241m.\u001b[39msave(\u001b[38;5;28mstr\u001b[39m(path), writer\u001b[38;5;241m=\u001b[39mwriter)\n",
      "File \u001b[1;32mc:\\Python312\\Lib\\site-packages\\matplotlib\\animation.py:148\u001b[0m, in \u001b[0;36mMovieWriterRegistry.__getitem__\u001b[1;34m(self, name)\u001b[0m\n\u001b[0;32m    146\u001b[0m \u001b[38;5;28;01mif\u001b[39;00m \u001b[38;5;28mself\u001b[39m\u001b[38;5;241m.\u001b[39mis_available(name):\n\u001b[0;32m    147\u001b[0m     \u001b[38;5;28;01mreturn\u001b[39;00m \u001b[38;5;28mself\u001b[39m\u001b[38;5;241m.\u001b[39m_registered[name]\n\u001b[1;32m--> 148\u001b[0m \u001b[38;5;28;01mraise\u001b[39;00m \u001b[38;5;167;01mRuntimeError\u001b[39;00m(\u001b[38;5;124mf\u001b[39m\u001b[38;5;124m\"\u001b[39m\u001b[38;5;124mRequested MovieWriter (\u001b[39m\u001b[38;5;132;01m{\u001b[39;00mname\u001b[38;5;132;01m}\u001b[39;00m\u001b[38;5;124m) not available\u001b[39m\u001b[38;5;124m\"\u001b[39m)\n",
      "\u001b[1;31mRuntimeError\u001b[0m: Requested MovieWriter (ffmpeg) not available"
     ]
    }
   ],
   "source": [
    "#Display the animation\n",
    "HTML(animation.to_html5_video())"
   ]
  }
 ],
 "metadata": {
  "kernelspec": {
   "display_name": "Python 3",
   "language": "python",
   "name": "python3"
  },
  "language_info": {
   "codemirror_mode": {
    "name": "ipython",
    "version": 3
   },
   "file_extension": ".py",
   "mimetype": "text/x-python",
   "name": "python",
   "nbconvert_exporter": "python",
   "pygments_lexer": "ipython3",
   "version": "3.8.19"
  }
 },
 "nbformat": 4,
 "nbformat_minor": 4
}

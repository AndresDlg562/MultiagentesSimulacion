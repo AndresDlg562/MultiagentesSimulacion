{
 "cells": [
  {
   "cell_type": "markdown",
   "metadata": {},
   "source": [
    "# Sembradora 3000"
   ]
  },
  {
   "cell_type": "markdown",
   "metadata": {},
   "source": [
    "This notebook presents an agent-based model that simulates the propagation of a disease through a network.\n",
    "It demonstrates how to use the [agentpy](https://agentpy.readthedocs.io) package to create and visualize networks, use the interactive module, and perform different types of sensitivity analysis. "
   ]
  },
  {
   "cell_type": "code",
   "execution_count": 1,
   "metadata": {},
   "outputs": [],
   "source": [
    "# Model design\n",
    "import agentpy as ap\n",
    "import random\n",
    "import numpy as np\n",
    "from collections import namedtuple, deque\n",
    "from queue import PriorityQueue\n",
    "from itertools import count\n",
    "import math\n",
    "\n",
    "# Visualization\n",
    "import matplotlib\n",
    "import matplotlib.pyplot as plt \n",
    "import matplotlib.colors as mcolors\n",
    "import matplotlib.image as mpimg\n",
    "import matplotlib.animation as animation\n",
    "import seaborn as sns\n",
    "from IPython.display import HTML"
   ]
  },
  {
   "cell_type": "markdown",
   "metadata": {},
   "source": [
    "## About the model\n",
    "\n",
    "The agents of this model are people, which can be in one of the following three conditions: susceptible to the disease (S), infected (I), or recovered (R). The agents are connected to each other through a small-world network of peers. At every time-step, infected agents can infect their peers or recover from the disease based on random chance."
   ]
  },
  {
   "cell_type": "markdown",
   "metadata": {},
   "source": [
    "## Grid"
   ]
  },
  {
   "cell_type": "code",
   "execution_count": null,
   "metadata": {},
   "outputs": [],
   "source": [
    "\"\"\"\n",
    "1 is tractor\n",
    "2 is obstacle\n",
    "3 is target\n",
    "4 is seeds\n",
    "\"\"\"\n",
    "\n",
    "\n",
    "def is_connected(grid, free_positions):\n",
    "    \"\"\" Check if all free cells are connected using BFS \"\"\"\n",
    "    n = grid.shape[0]\n",
    "    visited = set()\n",
    "    queue = deque([free_positions.pop()])\n",
    "    visited.add(queue[0])\n",
    "\n",
    "    directions = [(-1, 0), (1, 0), (0, -1), (0, 1)]\n",
    "    \n",
    "    connected_count = 1\n",
    "    free_count = len(free_positions)\n",
    "\n",
    "    while queue:\n",
    "        x, y = queue.popleft()\n",
    "        for dx, dy in directions:\n",
    "            new_x, new_y = x + dx, y + dy\n",
    "            if 0 <= new_x < n and 0 <= new_y < n and (new_x, new_y) in free_positions and (new_x, new_y) not in visited:\n",
    "                queue.append((new_x, new_y))\n",
    "                visited.add((new_x, new_y))\n",
    "                connected_count += 1\n",
    "        \n",
    "                \n",
    "    return connected_count > free_count\n",
    "\n",
    "def generate_grid(model, n, obstacles_count):\n",
    "    grid = ap.Grid(model, (n, n), track_empty=True)  # Create an agentpy Grid object\n",
    "    grid.add_field(\"occupied\", 0)  # Add a field to store obstacle information\n",
    "\n",
    "    # Generate obstacle positions\n",
    "    obstacle_positions = set()\n",
    "    while len(obstacle_positions) < obstacles_count:\n",
    "        x, y = random.randint(0, n-1), random.randint(0, n-1)\n",
    "        if (x, y) not in obstacle_positions and (x,y) not in model.p.seedsPositions:\n",
    "            obstacle_positions.add((x, y))\n",
    "\n",
    "    # Mark grid cells as obstacles\n",
    "    for pos in obstacle_positions:\n",
    "        grid[\"occupied\"][pos] = 1\n",
    "\n",
    "    # Identify free positions\n",
    "    free_positions = set()\n",
    "    for pos in grid.all:\n",
    "        if grid[\"occupied\"][pos] != 1:\n",
    "            free_positions.add(pos)\n",
    "\n",
    "    # Check if the free cells are connected\n",
    "    final_obstacles = set()\n",
    "    while not is_connected(grid, free_positions):\n",
    "        final_obstacles.clear()\n",
    "        grid = ap.Grid(model, (n, n), track_empty=True)\n",
    "        grid.add_field(\"occupied\", 0)\n",
    "        obstacle_positions = set()\n",
    "        while len(obstacle_positions) < obstacles_count:\n",
    "            x, y = random.randint(0, n-1), random.randint(0, n-1)\n",
    "            if (x, y) not in obstacle_positions and (x,y) not in model.p.seedsPositions:\n",
    "                obstacle_positions.add((x, y))\n",
    "        \n",
    "        free_positions = set()\n",
    "        for pos in grid.all:\n",
    "            if grid[\"occupied\"][pos] == 0:\n",
    "                free_positions.add(pos)\n",
    "        final_obstacles = obstacle_positions\n",
    "\n",
    "    for pos in obstacle_positions:\n",
    "        grid[\"occupied\"][pos] = 1\n",
    "        model.np_grid[pos] = 3\n",
    "    #add an agent to each obstacle position with type 2\n",
    "    #Make an agentlist ap.agentlist\n",
    "    #Add the agent to the grid\n",
    "    #Add the agent to the agentlist\n",
    "    agentlist = ap.AgentList(model, len(obstacle_positions))\n",
    "    agentlist.type = 2\n",
    "        \n",
    "    grid.add_agents(agentlist, obstacle_positions)\n",
    "    \n",
    "\n",
    "\n",
    "    model.grid = grid"
   ]
  },
  {
   "cell_type": "markdown",
   "metadata": {},
   "source": [
    "## Agente"
   ]
  },
  {
   "cell_type": "code",
   "execution_count": 2,
   "metadata": {},
   "outputs": [],
   "source": [
    "class CollectingTractor(ap.Agent):\n",
    "    def setup(self, type = 1, pos = (0,0)):\n",
    "        self.collected = 0\n",
    "        self.targetIndex = 1\n",
    "        self.path = []\n",
    "        self.destroyed = False\n",
    "        self.condition = True\n",
    "        self.seeds = 0\n",
    "        self.type = type\n",
    "        \n",
    "        # Machine Learning\n",
    "        self.start = pos\n",
    "        self.q_table = np.zeros((self.p.grid_size, self.p.grid_size, 4))  # 4 acciones para un grid de tamaño grid_size x grid_size\n",
    "        self.learning_rate = 0.1\n",
    "        self.discount_factor = 0.9\n",
    "        self.epsilon = 0.1\n",
    "        self.pos = pos  # Posición inicial\n",
    "    \n",
    "    def get_reward(self, action):\n",
    "        # Ejemplo de función de recompensa\n",
    "        if action == 'plant':\n",
    "            return 10  # Recompensa positiva por plantar\n",
    "        else:\n",
    "            return -1  # Recompensa negativa por moverse a una celda vacía\n",
    "\n",
    "    def q_learning_update(self, state, action, reward, next_state):\n",
    "        current_q = self.q_table[state][action]\n",
    "        max_next_q = np.max(self.q_table[next_state])\n",
    "        new_q = current_q + self.learning_rate * (reward + self.discount_factor * max_next_q - current_q)\n",
    "        self.q_table[state][action] = new_q\n",
    "\n",
    "    def acciones(self, action):\n",
    "        x, y = self.pos\n",
    "\n",
    "        if action == 0:  # Arriba\n",
    "            new_pos = (x, y + 1) if y < self.p.grid_size - 1 else self.pos\n",
    "        elif action == 1:  # Abajo\n",
    "            new_pos = (x, y - 1) if y > 0 else self.pos\n",
    "        elif action == 2:  # Izquierda\n",
    "            new_pos = (x - 1, y) if x > 0 else self.pos\n",
    "        elif action == 3:  # Derecha\n",
    "            new_pos = (x + 1, y) if x < self.p.grid_size - 1 else self.pos\n",
    "        elif action == 4:  # Dejar\n",
    "            \n",
    "        elif action == 5:  # Recoger\n",
    "\n",
    "\n",
    "        return new_pos\n",
    "\n",
    "    def step(self):\n",
    "        state = self.pos\n",
    "        if np.random.rand() < self.epsilon:\n",
    "            action = np.random.choice([0, 1, 2, 3])  # Acciones aleatorias: arriba, abajo, izquierda, derecha\n",
    "        else:\n",
    "            action = np.argmax(self.q_table[state])\n",
    "\n",
    "        next_state = self.moverse(action)\n",
    "        reward = self.get_reward(action)\n",
    "        self.q_learning_update(state, action, reward, next_state)\n",
    "\n",
    "        self.pos = next_state  # Actualizar la posición del agente\n"
   ]
  },
  {
   "cell_type": "markdown",
   "metadata": {},
   "source": [
    "#### Ambiente"
   ]
  },
  {
   "cell_type": "code",
   "execution_count": 4,
   "metadata": {},
   "outputs": [],
   "source": [
    "class TractorModel(ap.Model):\n",
    "    def setup(self):\n",
    "        self.Collected = 0\n",
    "        #Numpy array of size grid_size x grid_size\n",
    "        self.np_grid = np.zeros((self.p.grid_size, self.p.grid_size))\n",
    "        generate_grid(self, self.p.grid_size, self.p.obstacles_count)\n",
    "        #Create p.number_of_tractors tractors\n",
    "        self.agents = ap.AgentList(self, self.p.number_of_tractors, CollectingTractor)\n",
    "        self.agents.capacity = self.p.capacity\n",
    "        self.agents.seeds = self.p.starting_seeds\n",
    "        #Unique coords\n",
    "        coordsUsed = set()\n",
    "        #Set the targets for each tractor, checking that they are not obstacles\n",
    "        for tractor in self.agents:\n",
    "            targets = []\n",
    "            for i in range(self.p.number_of_targets + 1):\n",
    "                x, y = random.randint(0, self.p.grid_size-1), random.randint(0, self.p.grid_size-1)\n",
    "                while self.grid[\"occupied\"][(x, y)] == 1 or (x, y) in coordsUsed:\n",
    "                    x, y = random.randint(0, self.p.grid_size-1), random.randint(0, self.p.grid_size-1)\n",
    "                targets.append((x, y))\n",
    "                coordsUsed.add((x, y))\n",
    "            tractor.targets = targets\n",
    "            tractor.pos = targets[0]\n",
    "            self.np_grid[tractor.pos] = 1\n",
    "        \n",
    "        self.grid.add_agents(self.agents, [tractor.pos for tractor in self.agents])\n",
    "        \n",
    "    def update(self):\n",
    "        self.record('Collected', sum([tractor.collected for tractor in self.agents]))\n",
    "\n",
    "        \n",
    "    def step(self):\n",
    "        self.agents.step()\n",
    "        #Assign 4 to the seed positions\n",
    "        for seed in self.p.seedsPositions:\n",
    "            self.np_grid[seed] = 4\n",
    "        \n",
    "    def end(self):\n",
    "        self.report('Total targets', self.p.number_of_targets * self.p.number_of_tractors)\n",
    "        #time to collect all targets"
   ]
  },
  {
   "cell_type": "markdown",
   "metadata": {},
   "source": [
    "## Parameters"
   ]
  },
  {
   "cell_type": "code",
   "execution_count": 5,
   "metadata": {},
   "outputs": [
    {
     "name": "stdout",
     "output_type": "stream",
     "text": [
      "Completed: 100 steps\n",
      "Run time: 0:00:00.021634\n",
      "Simulation finished\n"
     ]
    },
    {
     "data": {
      "text/plain": [
       "'model = VirusModel(parameters)\\nresults = model.run() '"
      ]
     },
     "execution_count": 5,
     "metadata": {},
     "output_type": "execute_result"
    }
   ],
   "source": [
    "\n",
    "\n",
    "tractorParameters = {\n",
    "    'grid_size': 10,\n",
    "    'obstacles_count': 10,\n",
    "    'number_of_tractors': 4,\n",
    "    'number_of_targets': 8,\n",
    "    'steps': 100,\n",
    "    'seedsPositions': [(0, 0)],\n",
    "    'capacity': 2,\n",
    "    'starting_seeds': 2\n",
    "}\n",
    "model = TractorModel(tractorParameters)\n",
    "results = model.run(steps=100)\n",
    "'''model = VirusModel(parameters)\n",
    "results = model.run() '''"
   ]
  },
  {
   "cell_type": "markdown",
   "metadata": {},
   "source": [
    "## Machine Learning"
   ]
  },
  {
   "cell_type": "code",
   "execution_count": 6,
   "metadata": {},
   "outputs": [],
   "source": []
  },
  {
   "cell_type": "code",
   "execution_count": 7,
   "metadata": {},
   "outputs": [],
   "source": []
  },
  {
   "cell_type": "code",
   "execution_count": 8,
   "metadata": {},
   "outputs": [],
   "source": []
  },
  {
   "cell_type": "code",
   "execution_count": null,
   "metadata": {},
   "outputs": [],
   "source": []
  },
  {
   "cell_type": "code",
   "execution_count": null,
   "metadata": {},
   "outputs": [],
   "source": []
  },
  {
   "cell_type": "code",
   "execution_count": null,
   "metadata": {},
   "outputs": [],
   "source": []
  },
  {
   "cell_type": "markdown",
   "metadata": {},
   "source": [
    "## Analyzing results"
   ]
  },
  {
   "cell_type": "code",
   "execution_count": null,
   "metadata": {},
   "outputs": [],
   "source": [
    "''' \n",
    "ESTO NO JALA, PERO SI ALGUIEN LO QUIERE ARREGLAR, DESE\n",
    "def tractor_plot(data, ax):\n",
    "    x = data.index.get_level_values('t')\n",
    "    y = data['Collected']\n",
    "    ax.plot(x, y, label='Collected targets')\n",
    "    ax.legend()\n",
    "    ax.set_xlim(0, max(1, len(x)-1))\n",
    "    ax.set_ylim(0, 25)\n",
    "    ax.set_xlabel(\"Time steps\")\n",
    "    ax.set_ylabel(\"Number of collected targets\")\n",
    "\n",
    "fig, ax = plt.subplots()\n",
    "tractor_plot(results.variables.TractorModel, ax)\n",
    "'''"
   ]
  },
  {
   "cell_type": "markdown",
   "metadata": {},
   "source": [
    "## Creating an animation"
   ]
  },
  {
   "cell_type": "code",
   "execution_count": null,
   "metadata": {},
   "outputs": [],
   "source": [
    "\"\"\"\n",
    "0 is empty\n",
    "1 is tractor\n",
    "2 is obstacle\n",
    "3 is target\n",
    "4 is seeds\n",
    "\"\"\"\n",
    "\n",
    "# Load images\n",
    "tractor_img = mpimg.imread('tractor.png')\n",
    "obstacle_img = mpimg.imread('obstacle.png')\n",
    "target_img = mpimg.imread('target.png')\n",
    "seeds_img = mpimg.imread('seeds.png')\n",
    "\n",
    "def animation_plot(model, ax):\n",
    "    # Clear the axis to avoid over-plotting\n",
    "    ax.clear()\n",
    "\n",
    "    # Plot the grid using images\n",
    "    for (x, y), value in np.ndenumerate(model.np_grid):\n",
    "        if value == 1:  # Tractor\n",
    "            ax.imshow(tractor_img, extent=[y, y+1, x, x+1], aspect='auto')\n",
    "        elif value == 3:  # Obstacle\n",
    "            ax.imshow(obstacle_img, extent=[y, y+1, x, x+1], aspect='auto')\n",
    "        elif value == 2:  # Target\n",
    "            ax.imshow(target_img, extent=[y, y+1, x, x+1], aspect='auto')\n",
    "        elif value == 4:  # Seeds\n",
    "            ax.imshow(seeds_img, extent=[y, y+1, x, x+1], aspect='auto')\n",
    "\n",
    "    # Add text for each tractor displaying the number of seeds it has\n",
    "    for agent in model.agents:\n",
    "        if agent.destroyed:\n",
    "            continue\n",
    "        ax.text(agent.pos[1] + 0.5, agent.pos[0] + 0.5, str(agent.seeds),\n",
    "                color='black', fontsize=12, ha='center', va='center', weight='bold')\n",
    "\n",
    "    # Fix axis limits based on the grid dimensions\n",
    "    ax.set_xlim([0, model.np_grid.shape[1]])\n",
    "    ax.set_ylim([0, model.np_grid.shape[0]])\n",
    "\n",
    "    # Set aspect ratio to 'equal' to prevent image stretching\n",
    "    ax.set_aspect('equal')\n",
    "\n",
    "    # Set the title for the plot\n",
    "    ax.set_title(f\"Tractor model \\n Time-step: {model.t}, Collected: {model.Collected}\")\n",
    "\n",
    "# Example usage\n",
    "fig, ax = plt.subplots()\n",
    "model = TractorModel(tractorParameters)\n",
    "animation = ap.animate(model, fig, ax, animation_plot)\n",
    "animation.save('simulacionTractores.gif')\n"
   ]
  },
  {
   "cell_type": "code",
   "execution_count": null,
   "metadata": {},
   "outputs": [],
   "source": [
    "#Display the animation\n",
    "HTML(animation.to_html5_video())"
   ]
  }
 ],
 "metadata": {
  "kernelspec": {
   "display_name": "Python 3",
   "language": "python",
   "name": "python3"
  },
  "language_info": {
   "codemirror_mode": {
    "name": "ipython",
    "version": 3
   },
   "file_extension": ".py",
   "mimetype": "text/x-python",
   "name": "python",
   "nbconvert_exporter": "python",
   "pygments_lexer": "ipython3",
   "version": "3.12.5"
  }
 },
 "nbformat": 4,
 "nbformat_minor": 4
}
